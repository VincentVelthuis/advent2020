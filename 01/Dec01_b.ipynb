{
 "cells": [
  {
   "cell_type": "code",
   "execution_count": 24,
   "metadata": {},
   "outputs": [],
   "source": [
    "import csv\n",
    "with open('puzzle_input.csv') as f:\n",
    "    reader = csv.reader(f)\n",
    "    data = list(reader)\n",
    "    puzzle = [int(i[0]) for i in data]"
   ]
  },
  {
   "cell_type": "code",
   "execution_count": 5,
   "metadata": {},
   "outputs": [],
   "source": [
    "puzzle =[1721, 979, 366, 299, 675, 1456]"
   ]
  },
  {
   "cell_type": "code",
   "execution_count": 30,
   "metadata": {},
   "outputs": [],
   "source": [
    "def myfunc():\n",
    "    for index1, item1 in enumerate(puzzle):\n",
    "        tmp = puzzle[:]\n",
    "        del tmp[index1]\n",
    "        #print(item1,tmp)\n",
    "        for index2, item2 in enumerate(tmp):\n",
    "            tmp2 = tmp[:]\n",
    "            del tmp2[index2]\n",
    "            #print(\"-\",item2, tmp2)\n",
    "            output = [item1+item2+item3 for item3 in tmp2]\n",
    "            \n",
    "            if 2020 in output:\n",
    "                print(\"--\",output)\n",
    "                num = tmp2[output.index(2020)]\n",
    "                print(\"found\", item1,item2,num,item1*item2*num)\n",
    "                return item1*item2*num"
   ]
  },
  {
   "cell_type": "code",
   "execution_count": 31,
   "metadata": {},
   "outputs": [
    {
     "name": "stdout",
     "output_type": "stream",
     "text": [
      "-- [2437, 3092, 2458, 2690, 1944, 2559, 2493, 2354, 2507, 2940, 2520, 3098, 3035, 3113, 2948, 2554, 2833, 2328, 2916, 2924, 2827, 3133, 2591, 2524, 2439, 3109, 2722, 2339, 2698, 2894, 2994, 2476, 2668, 2463, 2471, 3110, 3127, 2662, 2963, 2812, 2474, 2315, 3085, 2702, 3070, 2672, 3099, 2869, 2755, 2514, 2935, 2710, 2533, 1371, 2724, 2689, 3053, 2978, 2726, 2897, 2939, 3011, 2813, 2390, 2697, 2658, 3063, 3033, 2397, 2510, 2837, 2392, 2735, 2472, 2602, 2981, 3040, 2237, 2727, 2840, 2999, 2979, 2958, 2825, 2403, 2470, 2627, 2921, 2411, 2571, 2599, 3074, 2738, 2385, 2566, 2423, 2589, 2020, 2605, 2928, 3055, 2973, 2799, 2850, 1479, 2609, 2467, 2821, 2859, 2982, 2329, 2469, 2405, 1377, 2932, 2681, 3088, 2895, 3015, 2707, 3020, 2522, 3054, 2382, 2462, 2332, 2452, 2617, 3087, 2498, 2336, 2347, 2625, 3128, 2715, 3078, 1239, 3096, 2938, 2767, 2394, 2473, 2421, 2523, 3093, 2361, 2352, 2503, 2903, 2889, 2551, 2588, 2371, 3091, 2701, 2843, 2683, 2398, 3003, 2628, 2856, 2401, 2882, 2845, 3060, 2729, 2482, 2629, 2535, 2947, 2700, 2806, 2563, 3025, 3064, 2884, 2538, 2317, 3024, 3114, 2905, 2925, 2363, 2853, 2484, 2904, 2972, 2592, 2608, 2404, 2402, 2975, 3027, 3018, 2855, 2575, 1673, 2694]\n",
      "found 188 936 896 157667328\n",
      "157667328\n"
     ]
    }
   ],
   "source": [
    "print(myfunc())"
   ]
  },
  {
   "cell_type": "code",
   "execution_count": null,
   "metadata": {},
   "outputs": [],
   "source": []
  }
 ],
 "metadata": {
  "kernelspec": {
   "display_name": "Python 3",
   "language": "python",
   "name": "python3"
  },
  "language_info": {
   "codemirror_mode": {
    "name": "ipython",
    "version": 3
   },
   "file_extension": ".py",
   "mimetype": "text/x-python",
   "name": "python",
   "nbconvert_exporter": "python",
   "pygments_lexer": "ipython3",
   "version": "3.8.5"
  }
 },
 "nbformat": 4,
 "nbformat_minor": 4
}
