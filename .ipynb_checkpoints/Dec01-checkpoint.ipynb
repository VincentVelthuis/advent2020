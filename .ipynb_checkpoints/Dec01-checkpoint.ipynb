{
 "cells": [
  {
   "cell_type": "code",
   "execution_count": 8,
   "metadata": {},
   "outputs": [],
   "source": [
    "import csv"
   ]
  },
  {
   "cell_type": "code",
   "execution_count": 32,
   "metadata": {},
   "outputs": [],
   "source": [
    "with open('test_input.csv') as f:\n",
    "    reader = csv.reader(f)\n",
    "    data = list(reader)\n",
    "    test = [int(i[0]) for i in data]"
   ]
  },
  {
   "cell_type": "code",
   "execution_count": 51,
   "metadata": {},
   "outputs": [
    {
     "name": "stdout",
     "output_type": "stream",
     "text": [
      "1721 299 2020 514579\n"
     ]
    }
   ],
   "source": [
    "for index,item in enumerate(test):\n",
    "    tmp = test[:]\n",
    "    del tmp[index]\n",
    "    output = [item + num for num in tmp]\n",
    "    \n",
    "    if 2020 in output:\n",
    "        num = tmp[output.index(2020)]\n",
    "        print(item,num,item+num,item*num)\n",
    "        break"
   ]
  },
  {
   "cell_type": "code",
   "execution_count": 52,
   "metadata": {},
   "outputs": [],
   "source": [
    "with open('puzzle_input.csv') as f:\n",
    "    reader = csv.reader(f)\n",
    "    data = list(reader)\n",
    "    puzzle = [int(i[0]) for i in data]"
   ]
  },
  {
   "cell_type": "code",
   "execution_count": 53,
   "metadata": {},
   "outputs": [
    {
     "name": "stdout",
     "output_type": "stream",
     "text": [
      "247 1773 2020 437931\n"
     ]
    }
   ],
   "source": [
    "for index,item in enumerate(puzzle):\n",
    "    tmp = puzzle[:]\n",
    "    del tmp[index]\n",
    "    output = [item + num for num in tmp]\n",
    "    \n",
    "    if 2020 in output:\n",
    "        num = tmp[output.index(2020)]\n",
    "        print(item,num,item+num,item*num)\n",
    "        break"
   ]
  },
  {
   "cell_type": "code",
   "execution_count": null,
   "metadata": {},
   "outputs": [],
   "source": []
  }
 ],
 "metadata": {
  "kernelspec": {
   "display_name": "Python 3",
   "language": "python",
   "name": "python3"
  },
  "language_info": {
   "codemirror_mode": {
    "name": "ipython",
    "version": 3
   },
   "file_extension": ".py",
   "mimetype": "text/x-python",
   "name": "python",
   "nbconvert_exporter": "python",
   "pygments_lexer": "ipython3",
   "version": "3.8.5"
  }
 },
 "nbformat": 4,
 "nbformat_minor": 4
}
